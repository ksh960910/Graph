{
 "cells": [
  {
   "cell_type": "markdown",
   "id": "56e5a254",
   "metadata": {},
   "source": [
    "have one large graph and not many individual graphs (분자처럼 여러 그래프가 있는게 아님)\n",
    "unlabeled nodes 존재\n",
    "\n",
    "### Cora dataset\n",
    "- Nodes : publication\n",
    "- Edges : citations\n",
    "- Node features : word vectors\n",
    "- 7 labels : publication type (NN, RL, 어떤 주제에 대한 논문인지) \n",
    "\n",
    "node features에 각 논문에서 어떠한 단어가 몇번나왔는지 센 후 normalize"
   ]
  },
  {
   "cell_type": "code",
   "execution_count": 22,
   "id": "b8078382",
   "metadata": {
    "scrolled": true
   },
   "outputs": [
    {
     "name": "stdout",
     "output_type": "stream",
     "text": [
      "Downloading https://github.com/kimiyoung/planetoid/raw/master/data/ind.cora.x\n",
      "Downloading https://github.com/kimiyoung/planetoid/raw/master/data/ind.cora.tx\n",
      "Downloading https://github.com/kimiyoung/planetoid/raw/master/data/ind.cora.allx\n",
      "Downloading https://github.com/kimiyoung/planetoid/raw/master/data/ind.cora.y\n",
      "Downloading https://github.com/kimiyoung/planetoid/raw/master/data/ind.cora.ty\n",
      "Downloading https://github.com/kimiyoung/planetoid/raw/master/data/ind.cora.ally\n",
      "Downloading https://github.com/kimiyoung/planetoid/raw/master/data/ind.cora.graph\n",
      "Downloading https://github.com/kimiyoung/planetoid/raw/master/data/ind.cora.test.index\n",
      "Processing...\n",
      "Done!\n"
     ]
    }
   ],
   "source": [
    "from torch_geometric.datasets import Planetoid\n",
    "from torch_geometric.transforms import NormalizeFeatures\n",
    "\n",
    "dataset = Planetoid(root='/home/user/Stuuddddyyyyyyyyyyyyyyyyyyy', name='Cora', transform=NormalizeFeatures())"
   ]
  },
  {
   "cell_type": "code",
   "execution_count": 23,
   "id": "90e8f3fd",
   "metadata": {},
   "outputs": [
    {
     "name": "stdout",
     "output_type": "stream",
     "text": [
      "Number of graphs: 1\n",
      "Number of features : 1433\n",
      "Number of classes : 7\n",
      "==================================================\n",
      "Data(edge_index=[2, 10556], test_mask=[2708], train_mask=[2708], val_mask=[2708], x=[2708, 1433], y=[2708])\n",
      "Number of nodes : 2708\n",
      "Number of edges : 10556\n",
      "Number of training nodes : 140\n",
      "Training node label rate : 0.05\n",
      "Is undirected : True\n"
     ]
    }
   ],
   "source": [
    "print(f'Number of graphs: {len(dataset)}')\n",
    "print(f'Number of features : {dataset.num_features}')  #node features\n",
    "print(f'Number of classes : {dataset.num_classes}') # label\n",
    "print(50 * '=')\n",
    "\n",
    "data = dataset[0]\n",
    "\n",
    "print(data)\n",
    "print(f'Number of nodes : {data.num_nodes}')\n",
    "print(f'Number of edges : {data.num_edges}')\n",
    "print(f'Number of training nodes : {data.train_mask.sum()}')\n",
    "print(f'Training node label rate : {int(data.train_mask.sum())/data.num_nodes:.2f}')\n",
    "print(f'Is undirected : {data.is_undirected()}')"
   ]
  },
  {
   "cell_type": "code",
   "execution_count": 24,
   "id": "12f9beb1",
   "metadata": {},
   "outputs": [
    {
     "name": "stdout",
     "output_type": "stream",
     "text": [
      "torch.Size([2708, 1433])\n"
     ]
    },
    {
     "data": {
      "text/plain": [
       "tensor([0.0000, 0.0000, 0.0000, 0.0000, 0.0000, 0.0000, 0.0000, 0.0000, 0.0000,\n",
       "        0.0000, 0.0000, 0.0000, 0.0000, 0.0000, 0.0000, 0.0000, 0.0000, 0.0000,\n",
       "        0.0000, 0.0769, 0.0000, 0.0000, 0.0000, 0.0000, 0.0000, 0.0000, 0.0000,\n",
       "        0.0000, 0.0000, 0.0000, 0.0000, 0.0000, 0.0000, 0.0000, 0.0000, 0.0000,\n",
       "        0.0000, 0.0000, 0.0000, 0.0000, 0.0000, 0.0000, 0.0000, 0.0000, 0.0000,\n",
       "        0.0000, 0.0000, 0.0000, 0.0000, 0.0000])"
      ]
     },
     "execution_count": 24,
     "metadata": {},
     "output_type": "execute_result"
    }
   ],
   "source": [
    "print(data.x.shape) # 노드 갯수 x feature 수\n",
    "\n",
    "# normalized word counts\n",
    "data.x[2707][:50]"
   ]
  },
  {
   "cell_type": "code",
   "execution_count": 25,
   "id": "fb9d7a7c",
   "metadata": {},
   "outputs": [
    {
     "data": {
      "text/plain": [
       "tensor([3, 4, 4,  ..., 3, 3, 3])"
      ]
     },
     "execution_count": 25,
     "metadata": {},
     "output_type": "execute_result"
    }
   ],
   "source": [
    "# label vector\n",
    "data.y"
   ]
  },
  {
   "cell_type": "code",
   "execution_count": 26,
   "id": "94fa9050",
   "metadata": {},
   "outputs": [
    {
     "data": {
      "text/plain": [
       "tensor([False, False, False,  ...,  True,  True,  True])"
      ]
     },
     "execution_count": 26,
     "metadata": {},
     "output_type": "execute_result"
    }
   ],
   "source": [
    "# test mask에 포함되는 node 확인\n",
    "data.test_mask"
   ]
  },
  {
   "cell_type": "code",
   "execution_count": 28,
   "id": "45cee8d7",
   "metadata": {},
   "outputs": [
    {
     "data": {
      "text/plain": [
       "tensor([[   0,  633],\n",
       "        [   0, 1862],\n",
       "        [   0, 2582],\n",
       "        ...,\n",
       "        [2707,  598],\n",
       "        [2707, 1473],\n",
       "        [2707, 2706]])"
      ]
     },
     "execution_count": 28,
     "metadata": {},
     "output_type": "execute_result"
    }
   ],
   "source": [
    "# 연결되어있는 edge\n",
    "data.edge_index.t()"
   ]
  },
  {
   "cell_type": "code",
   "execution_count": 53,
   "id": "1b5f6623",
   "metadata": {},
   "outputs": [
    {
     "name": "stdout",
     "output_type": "stream",
     "text": [
      "GCN(\n",
      "  (conv1): GCNConv(1433, 16)\n",
      "  (conv2): GCNConv(16, 16)\n",
      "  (out): Linear(in_features=16, out_features=7, bias=True)\n",
      ")\n"
     ]
    }
   ],
   "source": [
    "import torch\n",
    "from torch.nn import Linear\n",
    "import torch.nn.functional as F\n",
    "from torch_geometric.nn import GCNConv\n",
    "\n",
    "# pytorch에서는 꼭 torch.nn.Module에서 override해야함\n",
    "# __init__으로 초기화를 시켜주는데 super로 torch.nn.Module에 있는 함수들을 불러오는것\n",
    "\n",
    "class GCN(torch.nn.Module):\n",
    "    def __init__(self, hidden_channels):\n",
    "        super(GCN, self).__init__()\n",
    "        torch.manual_seed(42)\n",
    "        \n",
    "        # Initialize layers (2 message passing 단계)\n",
    "        self.conv1 = GCNConv(dataset.num_features, hidden_channels)\n",
    "        self.conv2 = GCNConv(hidden_channels, hidden_channels)\n",
    "        self.out = Linear(hidden_channels, dataset.num_classes)\n",
    "    \n",
    "    def forward(self, x, edge_index):\n",
    "        # First message passing layer\n",
    "        x = self.conv1(x, edge_index)\n",
    "        x = x.relu()\n",
    "        x = F.dropout(x, p=0.5, training=self.training)  # training시에만 dropout 할 수 있도록\n",
    "        \n",
    "        # Second message passing layer\n",
    "        x = self.conv2(x, edge_index)\n",
    "        x = x.relu()\n",
    "        x = F.dropout(x, p=0.5, training=self.training)\n",
    "        \n",
    "        # Output layer\n",
    "        x = F.softmax(self.out(x), dim=1)\n",
    "        return x\n",
    "    \n",
    "model = GCN(hidden_channels=16)\n",
    "print(model)"
   ]
  },
  {
   "cell_type": "markdown",
   "id": "8ab6d8d7",
   "metadata": {},
   "source": [
    "## Training and Evaluation"
   ]
  },
  {
   "cell_type": "code",
   "execution_count": 52,
   "id": "11ac6a86",
   "metadata": {},
   "outputs": [
    {
     "name": "stdout",
     "output_type": "stream",
     "text": [
      "Epoch :   0, Loss : 1.9460, Train accuracy : 0.1429\n",
      "Epoch : 100, Loss : 1.6487, Train accuracy : 0.5571\n",
      "Epoch : 200, Loss : 1.4869, Train accuracy : 0.7357\n",
      "Epoch : 300, Loss : 1.4474, Train accuracy : 0.8000\n",
      "Epoch : 400, Loss : 1.3799, Train accuracy : 0.8571\n",
      "Epoch : 500, Loss : 1.3597, Train accuracy : 0.8786\n",
      "Epoch : 600, Loss : 1.3612, Train accuracy : 0.8714\n",
      "Epoch : 700, Loss : 1.3271, Train accuracy : 0.8929\n",
      "Epoch : 800, Loss : 1.3492, Train accuracy : 0.8786\n",
      "Epoch : 900, Loss : 1.3235, Train accuracy : 0.9071\n",
      "Epoch : 1000, Loss : 1.2988, Train accuracy : 0.9214\n"
     ]
    }
   ],
   "source": [
    "model = GCN(hidden_channels=16)\n",
    "\n",
    "# Use GPU\n",
    "device = torch.device('cuda:0' if torch.cuda.is_available() else 'cpu')\n",
    "model = model.to(device)\n",
    "data = data.to(device)\n",
    "\n",
    "# Initialize optimizer\n",
    "learning_rate = 0.01\n",
    "decay = 5e-4\n",
    "optimizer = torch.optim.Adam(model.parameters(),\n",
    "                            lr = learning_rate,\n",
    "                            weight_decay = decay)\n",
    "\n",
    "# Define loss function as crossentropy (classification problem이라서)\n",
    "# crossentropy를 사용하여 probability distribution을 비교\n",
    "criterion = torch.nn.CrossEntropyLoss()\n",
    "\n",
    "def train():\n",
    "    model.train()\n",
    "    optimizer.zero_grad()\n",
    "    # 전체 node에 feature가 있기 때문에 전체 data를 사용하여 모델에 forward 시켜줌. \n",
    "    out = model(data.x, data.edge_index)\n",
    "    # loss 값을 구할때는 label이 있는 node들로만 계산\n",
    "    loss = criterion(out[data.train_mask], data.y[data.train_mask])\n",
    "    loss.backward()\n",
    "    pred = out.argmax(dim=1)\n",
    "    train_correct = pred[data.train_mask] == data.y[data.train_mask]\n",
    "    train_acc = int(train_correct.sum()) / int(data.train_mask.sum())\n",
    "    optimizer.step()\n",
    "    return loss, train_acc\n",
    "\n",
    "def test():\n",
    "    model.eval()\n",
    "    out = model(data.x, data.edge_index)\n",
    "    # 가장 높은 확률로 나온 class 를 pred로 사용\n",
    "    pred = out.argmax(dim=1)\n",
    "    # 실제 값과 맞는지 비교\n",
    "    test_correct = pred[data.test_mask] == data.y[data.test_mask]\n",
    "    test_acc = int(test_correct.sum()) / int(data.test_mask.sum())\n",
    "    return test_acc\n",
    "\n",
    "losses = []\n",
    "for epoch in range(0, 1001):\n",
    "    loss, train_acc = train()\n",
    "    losses.append(loss)\n",
    "    if epoch % 100 == 0:\n",
    "        print(f'Epoch : {epoch:3d}, Loss : {loss:.4f}, Train accuracy : {train_acc:.4f}')\n",
    "\n"
   ]
  },
  {
   "cell_type": "code",
   "execution_count": 37,
   "id": "f7036427",
   "metadata": {},
   "outputs": [
    {
     "name": "stderr",
     "output_type": "stream",
     "text": [
      "/home/user/anaconda3/lib/python3.8/site-packages/seaborn/_decorators.py:36: FutureWarning: Pass the following variables as keyword args: x, y. From version 0.12, the only valid positional argument will be `data`, and passing other arguments without an explicit keyword will result in an error or misinterpretation.\n",
      "  warnings.warn(\n"
     ]
    },
    {
     "data": {
      "text/plain": [
       "<AxesSubplot:>"
      ]
     },
     "execution_count": 37,
     "metadata": {},
     "output_type": "execute_result"
    },
    {
     "data": {
      "image/png": "[encoded data removed]",
      "text/plain": [
       "<Figure size 432x288 with 1 Axes>"
      ]
     },
     "metadata": {
      "needs_background": "light"
     },
     "output_type": "display_data"
    }
   ],
   "source": [
    "import seaborn as sns\n",
    "# losses 리스트에 저장되어있는 전체 loss를 numpy로 변환\n",
    "losses_float = [float(loss.cpu().detach().numpy()) for loss in losses]\n",
    "# enumerate를 통해 loss값에 해당하는 인덱스 가져오기\n",
    "loss_indices = [i for i, l in enumerate(losses_float)]\n",
    "plt = sns.lineplot(loss_indices, losses_float)\n",
    "plt"
   ]
  },
  {
   "cell_type": "markdown",
   "id": "806cbd15",
   "metadata": {},
   "source": [
    "## Calculate test "
   ]
  },
  {
   "cell_type": "code",
   "execution_count": 44,
   "id": "f4bec5f5",
   "metadata": {},
   "outputs": [
    {
     "name": "stdout",
     "output_type": "stream",
     "text": [
      "Test Accuracy : 0.7390\n"
     ]
    }
   ],
   "source": [
    "test_acc = test()\n",
    "print(f'Test Accuracy : {test_acc:.4f}')"
   ]
  },
  {
   "cell_type": "code",
   "execution_count": 50,
   "id": "8413a2bc",
   "metadata": {},
   "outputs": [
    {
     "name": "stdout",
     "output_type": "stream",
     "text": [
      "torch.Size([2708, 7])\n"
     ]
    },
    {
     "data": {
      "text/plain": [
       "<AxesSubplot:>"
      ]
     },
     "execution_count": 50,
     "metadata": {},
     "output_type": "execute_result"
    },
    {
     "data": {
      "image/png": "[encoded data removed]",
      "text/plain": [
       "<Figure size 432x288 with 1 Axes>"
      ]
     },
     "metadata": {},
     "output_type": "display_data"
    }
   ],
   "source": [
    "import numpy as np\n",
    "sample = 2707\n",
    "sns.set_theme(style='whitegrid')\n",
    "print(model(data.x, data.edge_index).shape)\n",
    "# train 후 model이 예측한 결과값\n",
    "pred = model(data.x, data.edge_index)\n",
    "sns.barplot(x=np.array(range(7)), y=pred[sample].detach().cpu().numpy())"
   ]
  },
  {
   "cell_type": "markdown",
   "id": "516b36bc",
   "metadata": {},
   "source": [
    "### more method to imporve model\n",
    "- cross validation\n",
    "- hyperparameter \n",
    "- GCN, GAT, ...\n",
    "- include edge features"
   ]
  },
  {
   "cell_type": "code",
   "execution_count": null,
   "id": "c2d143ec",
   "metadata": {},
   "outputs": [],
   "source": []
  },
  {
   "cell_type": "code",
   "execution_count": null,
   "id": "df666211",
   "metadata": {},
   "outputs": [],
   "source": []
  }
 ],
 "metadata": {
  "kernelspec": {
   "display_name": "venv",
   "language": "python",
   "name": "venv"
  },
  "language_info": {
   "codemirror_mode": {
    "name": "ipython",
    "version": 3
   },
   "file_extension": ".py",
   "mimetype": "text/x-python",
   "name": "python",
   "nbconvert_exporter": "python",
   "pygments_lexer": "ipython3",
   "version": "3.8.8"
  }
 },
 "nbformat": 4,
 "nbformat_minor": 5
}
